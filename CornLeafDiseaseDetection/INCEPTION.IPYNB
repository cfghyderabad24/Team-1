{
 "cells": [
  {
   "cell_type": "code",
   "execution_count": null,
   "metadata": {},
   "outputs": [],
   "source": [
    "!pip uninstall tensorflow -y"
   ]
  },
  {
   "cell_type": "markdown",
   "metadata": {},
   "source": [
    "Found existing installation: tensorflow 2.15.0\n",
    "Uninstalling tensorflow-2.15.0:\n",
    "  Successfully uninstalled tensorflow-2.15.0"
   ]
  },
  {
   "cell_type": "code",
   "execution_count": null,
   "metadata": {},
   "outputs": [],
   "source": [
    "!pip install tensorflow==2.12.0"
   ]
  },
  {
   "cell_type": "markdown",
   "metadata": {},
   "source": [
    "Requirement already satisfied: tensorflow==2.12.0 in /usr/local/lib/python3.10/dist-packages (2.12.0)\n",
    "Requirement already satisfied: absl-py>=1.0.0 in /usr/local/lib/python3.10/dist-packages (from tensorflow==2.12.0) (1.4.0)\n",
    "Requirement already satisfied: astunparse>=1.6.0 in /usr/local/lib/python3.10/dist-packages (from tensorflow==2.12.0) (1.6.3)\n",
    "Requirement already satisfied: flatbuffers>=2.0 in /usr/local/lib/python3.10/dist-packages (from tensorflow==2.12.0) (24.3.25)\n",
    "Requirement already satisfied: gast<=0.4.0,>=0.2.1 in /usr/local/lib/python3.10/dist-packages (from tensorflow==2.12.0) (0.4.0)\n",
    "Requirement already satisfied: google-pasta>=0.1.1 in /usr/local/lib/python3.10/dist-packages (from tensorflow==2.12.0) (0.2.0)\n",
    "Requirement already satisfied: grpcio<2.0,>=1.24.3 in /usr/local/lib/python3.10/dist-packages (from tensorflow==2.12.0) (1.62.1)\n",
    "Requirement already satisfied: h5py>=2.9.0 in /usr/local/lib/python3.10/dist-packages (from tensorflow==2.12.0) (3.9.0)\n",
    "Requirement already satisfied: jax>=0.3.15 in /usr/local/lib/python3.10/dist-packages (from tensorflow==2.12.0) (0.4.23)\n",
    "Requirement already satisfied: keras<2.13,>=2.12.0 in /usr/local/lib/python3.10/dist-packages (from tensorflow==2.12.0) (2.12.0)\n",
    "Requirement already satisfied: libclang>=13.0.0 in /usr/local/lib/python3.10/dist-packages (from tensorflow==2.12.0) (18.1.1)\n",
    "Requirement already satisfied: numpy<1.24,>=1.22 in /usr/local/lib/python3.10/dist-packages (from tensorflow==2.12.0) (1.23.5)\n",
    "Requirement already satisfied: opt-einsum>=2.3.2 in /usr/local/lib/python3.10/dist-packages (from tensorflow==2.12.0) (3.3.0)\n",
    "Requirement already satisfied: packaging in /usr/local/lib/python3.10/dist-packages (from tensorflow==2.12.0) (24.0)\n",
    "Requirement already satisfied: protobuf!=4.21.0,!=4.21.1,!=4.21.2,!=4.21.3,!=4.21.4,!=4.21.5,<5.0.0dev,>=3.20.3 in /usr/local/lib/python3.10/dist-packages (from tensorflow==2.12.0) (3.20.3)\n",
    "Requirement already satisfied: setuptools in /usr/local/lib/python3.10/dist-packages (from tensorflow==2.12.0) (67.7.2)\n",
    "Requirement already satisfied: six>=1.12.0 in /usr/local/lib/python3.10/dist-packages (from tensorflow==2.12.0) (1.16.0)\n",
    "Requirement already satisfied: tensorboard<2.13,>=2.12 in /usr/local/lib/python3.10/dist-packages (from tensorflow==2.12.0) (2.12.3)\n",
    "Requirement already satisfied: tensorflow-estimator<2.13,>=2.12.0 in /usr/local/lib/python3.10/dist-packages (from tensorflow==2.12.0) (2.12.0)\n",
    "Requirement already satisfied: termcolor>=1.1.0 in /usr/local/lib/python3.10/dist-packages (from tensorflow==2.12.0) (2.4.0)\n",
    "Requirement already satisfied: typing-extensions>=3.6.6 in /usr/local/lib/python3.10/dist-packages (from tensorflow==2.12.0) (4.10.0)\n",
    "Requirement already satisfied: wrapt<1.15,>=1.11.0 in /usr/local/lib/python3.10/dist-packages (from tensorflow==2.12.0) (1.14.1)\n",
    "Requirement already satisfied: tensorflow-io-gcs-filesystem>=0.23.1 in /usr/local/lib/python3.10/dist-packages (from tensorflow==2.12.0) (0.36.0)\n",
    "Requirement already satisfied: wheel<1.0,>=0.23.0 in /usr/local/lib/python3.10/dist-packages (from astunparse>=1.6.0->tensorflow==2.12.0) (0.43.0)\n",
    "Requirement already satisfied: ml-dtypes>=0.2.0 in /usr/local/lib/python3.10/dist-packages (from jax>=0.3.15->tensorflow==2.12.0) (0.2.0)\n",
    "Requirement already satisfied: scipy>=1.9 in /usr/local/lib/python3.10/dist-packages (from jax>=0.3.15->tensorflow==2.12.0) (1.11.4)\n",
    "Requirement already satisfied: google-auth<3,>=1.6.3 in /usr/local/lib/python3.10/dist-packages (from tensorboard<2.13,>=2.12->tensorflow==2.12.0) (2.27.0)\n",
    "Requirement already satisfied: google-auth-oauthlib<1.1,>=0.5 in /usr/local/lib/python3.10/dist-packages (from tensorboard<2.13,>=2.12->tensorflow==2.12.0) (1.0.0)\n",
    "Requirement already satisfied: markdown>=2.6.8 in /usr/local/lib/python3.10/dist-packages (from tensorboard<2.13,>=2.12->tensorflow==2.12.0) (3.6)\n",
    "Requirement already satisfied: requests<3,>=2.21.0 in /usr/local/lib/python3.10/dist-packages (from tensorboard<2.13,>=2.12->tensorflow==2.12.0) (2.31.0)\n",
    "Requirement already satisfied: tensorboard-data-server<0.8.0,>=0.7.0 in /usr/local/lib/python3.10/dist-packages (from tensorboard<2.13,>=2.12->tensorflow==2.12.0) (0.7.2)\n",
    "Requirement already satisfied: werkzeug>=1.0.1 in /usr/local/lib/python3.10/dist-packages (from tensorboard<2.13,>=2.12->tensorflow==2.12.0) (3.0.2)\n",
    "Requirement already satisfied: cachetools<6.0,>=2.0.0 in /usr/local/lib/python3.10/dist-packages (from google-auth<3,>=1.6.3->tensorboard<2.13,>=2.12->tensorflow==2.12.0) (5.3.3)\n",
    "Requirement already satisfied: pyasn1-modules>=0.2.1 in /usr/local/lib/python3.10/dist-packages (from google-auth<3,>=1.6.3->tensorboard<2.13,>=2.12->tensorflow==2.12.0) (0.4.0)\n",
    "Requirement already satisfied: rsa<5,>=3.1.4 in /usr/local/lib/python3.10/dist-packages (from google-auth<3,>=1.6.3->tensorboard<2.13,>=2.12->tensorflow==2.12.0) (4.9)\n",
    "Requirement already satisfied: requests-oauthlib>=0.7.0 in /usr/local/lib/python3.10/dist-packages (from google-auth-oauthlib<1.1,>=0.5->tensorboard<2.13,>=2.12->tensorflow==2.12.0) (1.3.1)\n",
    "Requirement already satisfied: charset-normalizer<4,>=2 in /usr/local/lib/python3.10/dist-packages (from requests<3,>=2.21.0->tensorboard<2.13,>=2.12->tensorflow==2.12.0) (3.3.2)\n",
    "Requirement already satisfied: idna<4,>=2.5 in /usr/local/lib/python3.10/dist-packages (from requests<3,>=2.21.0->tensorboard<2.13,>=2.12->tensorflow==2.12.0) (3.6)\n",
    "Requirement already satisfied: urllib3<3,>=1.21.1 in /usr/local/lib/python3.10/dist-packages (from requests<3,>=2.21.0->tensorboard<2.13,>=2.12->tensorflow==2.12.0) (2.0.7)\n",
    "Requirement already satisfied: certifi>=2017.4.17 in /usr/local/lib/python3.10/dist-packages (from requests<3,>=2.21.0->tensorboard<2.13,>=2.12->tensorflow==2.12.0) (2024.2.2)\n",
    "Requirement already satisfied: MarkupSafe>=2.1.1 in /usr/local/lib/python3.10/dist-packages (from werkzeug>=1.0.1->tensorboard<2.13,>=2.12->tensorflow==2.12.0) (2.1.5)\n",
    "Requirement already satisfied: pyasn1<0.7.0,>=0.4.6 in /usr/local/lib/python3.10/dist-packages (from pyasn1-modules>=0.2.1->google-auth<3,>=1.6.3->tensorboard<2.13,>=2.12->tensorflow==2.12.0) (0.6.0)\n",
    "Requirement already satisfied: oauthlib>=3.0.0 in /usr/local/lib/python3.10/dist-packages (from requests-oauthlib>=0.7.0->google-auth-oauthlib<1.1,>=0.5->tensorboard<2.13,>=2.12->tensorflow==2.12.0) (3.2.2)"
   ]
  },
  {
   "cell_type": "code",
   "execution_count": null,
   "metadata": {},
   "outputs": [],
   "source": [
    "import numpy as np\n",
    "import pandas as pd\n",
    "import matplotlib.pyplot as plt\n",
    "from matplotlib.pyplot import imread\n",
    "import cv2\n",
    "import random\n",
    "import os\n",
    "from os import listdir\n",
    "from PIL import Image\n",
    "import tensorflow as tf\n",
    "from keras.preprocessing import image\n",
    "from tensorflow.keras.utils import img_to_array, array_to_img\n",
    "from keras.optimizers import SGD\n",
    "#from keras.models import Sequential\n",
    "#from keras.layers import Conv2D,MaxPooling2D\n",
    "from keras.applications import InceptionV3\n",
    "from keras.layers import GlobalAveragePooling2D, Dense\n",
    "from keras.models import Model\n",
    "from keras.layers import Activation, Flatten, Dropout, Dense\n",
    "from sklearn.model_selection import train_test_split\n",
    "from keras.models import model_from_json\n",
    "from keras.utils import to_categorical"
   ]
  },
  {
   "cell_type": "code",
   "execution_count": null,
   "metadata": {},
   "outputs": [],
   "source": [
    "print(tf. __version__)"
   ]
  },
  {
   "cell_type": "markdown",
   "metadata": {},
   "source": [
    "2.12.0"
   ]
  },
  {
   "cell_type": "code",
   "execution_count": null,
   "metadata": {},
   "outputs": [],
   "source": [
    "from google.colab import drive\n",
    "drive.mount(\"/content/drive\")"
   ]
  },
  {
   "cell_type": "markdown",
   "metadata": {},
   "source": [
    "Mounted at /content/drive"
   ]
  },
  {
   "cell_type": "code",
   "execution_count": null,
   "metadata": {},
   "outputs": [],
   "source": [
    "!ls \"/content/drive/MyDrive/Minor\""
   ]
  },
  {
   "cell_type": "markdown",
   "metadata": {},
   "source": [
    "Minor_data  Model"
   ]
  },
  {
   "cell_type": "code",
   "execution_count": null,
   "metadata": {},
   "outputs": [],
   "source": [
    "!ls \"/content/drive/MyDrive/Minor/Minor_data\""
   ]
  },
  {
   "cell_type": "markdown",
   "metadata": {},
   "source": [
    "Blight\tCommonRust  GrayLeafSpot"
   ]
  },
  {
   "cell_type": "code",
   "execution_count": null,
   "metadata": {},
   "outputs": [],
   "source": [
    "#plotting 12 images to check dataset\n",
    "plt.figure(figsize=(12,12))\n",
    "path = \"/content/drive/MyDrive/Minor/Minor_data/CommonRust\"\n",
    "for i in range(1,17):\n",
    "  plt.subplot(4,4,i)\n",
    "  plt.tight_layout()\n",
    "  rand_img = imread(path +'/'+ random.choice(sorted(os.listdir(path))))\n",
    "  plt.imshow(rand_img)\n",
    "  plt.xlabel(rand_img.shape[1], fontsize = 10)#width of the image\n",
    "  plt.ylabel(rand_img.shape[0], fontsize = 10)#height of the image"
   ]
  },
  {
   "cell_type": "markdown",
   "metadata": {},
   "source": [
    "![alt text](image.png)"
   ]
  },
  {
   "cell_type": "code",
   "execution_count": null,
   "metadata": {},
   "outputs": [],
   "source": [
    "#Converting images to array\n",
    "def convert_image_to_array(image_dir):\n",
    "  try:\n",
    "      image = cv2.imread(image_dir)\n",
    "      if image is not None :\n",
    "        image = cv2.resize(image, (256,256))\n",
    "        return np.asarray(image)\n",
    "      else :\n",
    "        return np.array([])\n",
    "  except Exception as e:\n",
    "    print(f\"Error : {e}\")\n",
    "    return None"
   ]
  },
  {
   "cell_type": "code",
   "execution_count": null,
   "metadata": {},
   "outputs": [],
   "source": [
    "dir = \"/content/drive/MyDrive/Minor/Minor_data\"\n",
    "image_list, label_list = [], []\n",
    "all_labels = ['Blight', 'Common Rust', 'Gray Leaf Spot']\n",
    "binary_labels = [0,1,2]\n",
    "temp = -1\n",
    "#Reading and converting image to numpy array\n",
    "for directory in ['Blight', 'CommonRust', 'GrayLeafSpot']:\n",
    "  plant_image_list = listdir(f\"{dir}/{directory}\")\n",
    "  temp += 1\n",
    "  for files in plant_image_list:\n",
    "    image_path = f\"{dir}/{directory}/{files}\"\n",
    "    image_list.append(convert_image_to_array(image_path))\n",
    "    label_list.append(binary_labels[temp])"
   ]
  },
  {
   "cell_type": "code",
   "execution_count": null,
   "metadata": {},
   "outputs": [],
   "source": [
    "#visualize the number of classes count\n",
    "label_counts = pd.DataFrame(label_list).value_counts()\n",
    "label_counts"
   ]
  },
  {
   "cell_type": "markdown",
   "metadata": {},
   "source": [
    "0    300\n",
    "1    300\n",
    "2    300\n",
    "Name: count, dtype: int64"
   ]
  },
  {
   "cell_type": "code",
   "execution_count": null,
   "metadata": {},
   "outputs": [],
   "source": [
    "image_list[1].shape"
   ]
  },
  {
   "cell_type": "markdown",
   "metadata": {},
   "source": [
    "(256, 256, 3)"
   ]
  },
  {
   "cell_type": "code",
   "execution_count": null,
   "metadata": {},
   "outputs": [],
   "source": [
    "x_train, x_test, y_train, y_test = train_test_split(image_list, label_list, test_size=0.2, random_state = 10)\n",
    "print(\"Train sample size:\", len(x_train))\n",
    "print(\"Test  sample size:\", len(x_test))"
   ]
  },
  {
   "cell_type": "markdown",
   "metadata": {},
   "source": [
    "Train sample size: 720\n",
    "Test  sample size: 180"
   ]
  },
  {
   "cell_type": "code",
   "execution_count": null,
   "metadata": {},
   "outputs": [],
   "source": [
    "x_train = np.array(x_train, dtype=np.float16) / 255.0\n",
    "x_test = np.array(x_test, dtype=np.float16) / 255.0\n",
    "x_train = x_train.reshape( -1, 256,256,3)\n",
    "x_test = x_test.reshape( -1, 256,256,3)"
   ]
  },
  {
   "cell_type": "code",
   "execution_count": null,
   "metadata": {},
   "outputs": [],
   "source": [
    "#One hot encoding\n",
    "y_train = to_categorical(y_train)\n",
    "y_test = to_categorical(y_test)"
   ]
  },
  {
   "cell_type": "code",
   "execution_count": null,
   "metadata": {},
   "outputs": [],
   "source": [
    "# Load InceptionV3 model without top layers\n",
    "base_model = InceptionV3(weights='imagenet', include_top=False, input_shape=(256, 256, 3))"
   ]
  },
  {
   "cell_type": "markdown",
   "metadata": {},
   "source": [
    "Downloading data from https://storage.googleapis.com/tensorflow/keras-applications/inception_v3/inception_v3_weights_tf_dim_ordering_tf_kernels_notop.h5\n",
    "87910968/87910968 [==============================] - 1s 0us/step"
   ]
  },
  {
   "cell_type": "code",
   "execution_count": null,
   "metadata": {},
   "outputs": [],
   "source": [
    "# Freeze the layers in the base model\n",
    "for layer in base_model.layers:\n",
    "    layer.trainable = False"
   ]
  },
  {
   "cell_type": "code",
   "execution_count": null,
   "metadata": {},
   "outputs": [],
   "source": [
    "# Add custom top layers for classification\n",
    "x = base_model.output\n",
    "x = GlobalAveragePooling2D()(x)\n",
    "x = Dense(512, activation='relu')(x)\n",
    "x = Dense(512, activation='relu')(x)\n",
    "x = Dense(512, activation='relu')(x)\n",
    "predictions = Dense(3, activation='softmax')(x)  # 3 classes for 'Brown Spot', 'Hispa', 'Leaf Blast'"
   ]
  },
  {
   "cell_type": "code",
   "execution_count": null,
   "metadata": {},
   "outputs": [],
   "source": [
    "# Combine the base model with custom top layers\n",
    "model = Model(inputs=base_model.input, outputs=predictions)"
   ]
  },
  {
   "cell_type": "code",
   "execution_count": null,
   "metadata": {},
   "outputs": [],
   "source": [
    "# Compile the model\n",
    "optimizer = SGD(lr=0.01, momentum=0.9)\n",
    "model.compile(optimizer=optimizer, loss='categorical_crossentropy', metrics=['accuracy'])"
   ]
  },
  {
   "cell_type": "markdown",
   "metadata": {},
   "source": [
    "/usr/local/lib/python3.10/dist-packages/keras/optimizers/legacy/gradient_descent.py:114: UserWarning: The `lr` argument is deprecated, use `learning_rate` instead.\n",
    "  super().__init__(name, **kwargs)"
   ]
  },
  {
   "cell_type": "code",
   "execution_count": null,
   "metadata": {},
   "outputs": [],
   "source": [
    "# Train the model\n",
    "history = model.fit(x_train, y_train, epochs=20, batch_size=32, validation_data=(x_test, y_test))"
   ]
  },
  {
   "cell_type": "markdown",
   "metadata": {},
   "source": [
    "Epoch 1/20\n",
    "23/23 [==============================] - 160s 7s/step - loss: 0.9192 - accuracy: 0.5625 - val_loss: 0.6376 - val_accuracy: 0.6667\n",
    "Epoch 2/20\n",
    "23/23 [==============================] - 151s 7s/step - loss: 0.5701 - accuracy: 0.7347 - val_loss: 0.5633 - val_accuracy: 0.7167\n",
    "Epoch 3/20\n",
    "23/23 [==============================] - 137s 6s/step - loss: 0.3559 - accuracy: 0.8486 - val_loss: 0.4613 - val_accuracy: 0.8167\n",
    "Epoch 4/20\n",
    "23/23 [==============================] - 149s 7s/step - loss: 0.2545 - accuracy: 0.9056 - val_loss: 0.4001 - val_accuracy: 0.8111\n",
    "Epoch 5/20\n",
    "23/23 [==============================] - 141s 6s/step - loss: 0.1677 - accuracy: 0.9361 - val_loss: 0.6990 - val_accuracy: 0.7500\n",
    "Epoch 6/20\n",
    "23/23 [==============================] - 137s 6s/step - loss: 0.2290 - accuracy: 0.9028 - val_loss: 0.4880 - val_accuracy: 0.7667\n",
    "Epoch 7/20\n",
    "23/23 [==============================] - 152s 7s/step - loss: 0.2281 - accuracy: 0.9111 - val_loss: 0.6195 - val_accuracy: 0.7833\n",
    "Epoch 8/20\n",
    "23/23 [==============================] - 137s 6s/step - loss: 0.1328 - accuracy: 0.9444 - val_loss: 0.5205 - val_accuracy: 0.7889\n",
    "Epoch 9/20\n",
    "23/23 [==============================] - 156s 7s/step - loss: 0.0611 - accuracy: 0.9833 - val_loss: 0.7485 - val_accuracy: 0.7500\n",
    "Epoch 10/20\n",
    "23/23 [==============================] - 150s 7s/step - loss: 0.0362 - accuracy: 0.9944 - val_loss: 0.6545 - val_accuracy: 0.7833\n",
    "Epoch 11/20\n",
    "23/23 [==============================] - 135s 6s/step - loss: 0.0241 - accuracy: 0.9972 - val_loss: 0.6201 - val_accuracy: 0.7889\n",
    "Epoch 12/20\n",
    "23/23 [==============================] - 150s 7s/step - loss: 0.0137 - accuracy: 0.9972 - val_loss: 0.6318 - val_accuracy: 0.8111\n",
    "Epoch 13/20\n",
    "23/23 [==============================] - 156s 7s/step - loss: 0.0051 - accuracy: 1.0000 - val_loss: 0.6620 - val_accuracy: 0.8000\n",
    "Epoch 14/20\n",
    "23/23 [==============================] - 149s 7s/step - loss: 0.0026 - accuracy: 1.0000 - val_loss: 0.7211 - val_accuracy: 0.7944\n",
    "Epoch 15/20\n",
    "23/23 [==============================] - 134s 6s/step - loss: 0.0021 - accuracy: 1.0000 - val_loss: 0.7471 - val_accuracy: 0.7944\n",
    "Epoch 16/20\n",
    "23/23 [==============================] - 135s 6s/step - loss: 0.0014 - accuracy: 1.0000 - val_loss: 0.7394 - val_accuracy: 0.8056\n",
    "Epoch 17/20\n",
    "23/23 [==============================] - 153s 7s/step - loss: 0.0012 - accuracy: 1.0000 - val_loss: 0.7481 - val_accuracy: 0.8056\n",
    "Epoch 18/20\n",
    "23/23 [==============================] - 151s 7s/step - loss: 0.0011 - accuracy: 1.0000 - val_loss: 0.7669 - val_accuracy: 0.8056\n",
    "Epoch 19/20\n",
    "23/23 [==============================] - 135s 6s/step - loss: 9.6387e-04 - accuracy: 1.0000 - val_loss: 0.7746 - val_accuracy: 0.8056\n",
    "Epoch 20/20\n",
    "23/23 [==============================] - 137s 6s/step - loss: 8.5489e-04 - accuracy: 1.0000 - val_loss: 0.7891 - val_accuracy: 0.8056"
   ]
  },
  {
   "cell_type": "code",
   "execution_count": null,
   "metadata": {},
   "outputs": [],
   "source": [
    "model.save(\"/content/drive/MyDrive/Minor/Model/inceptionv3.h5\")"
   ]
  },
  {
   "cell_type": "code",
   "execution_count": null,
   "metadata": {},
   "outputs": [],
   "source": [
    "#plot the training history\n",
    "plt.figure(figsize=(12, 5))\n",
    "plt.plot(history.history['accuracy'], color='r')\n",
    "plt.plot(history.history['val_accuracy'], color='b')\n",
    "plt.title('Model Accuracy')\n",
    "plt.ylabel('Accuracy')\n",
    "plt.xlabel('Epochs')\n",
    "plt.legend(['train', 'val'])\n",
    "plt.show()"
   ]
  },
  {
   "cell_type": "markdown",
   "metadata": {},
   "source": [
    "![alt text](download.png)"
   ]
  },
  {
   "cell_type": "code",
   "execution_count": null,
   "metadata": {},
   "outputs": [],
   "source": [
    "print(\"Calculating model accuracy\")\n",
    "scores = model.evaluate(x_test, y_test)\n",
    "print(f\"Test Accuracy: {scores[1]*100}\")"
   ]
  },
  {
   "cell_type": "markdown",
   "metadata": {},
   "source": [
    "Calculating model accuracy\n",
    "6/6 [==============================] - 31s 4s/step - loss: 0.7891 - accuracy: 0.8056\n",
    "Test Accuracy: 80.55555820465088"
   ]
  },
  {
   "cell_type": "code",
   "execution_count": null,
   "metadata": {},
   "outputs": [],
   "source": [
    "y_pred = model.predict(x_test)"
   ]
  },
  {
   "cell_type": "markdown",
   "metadata": {},
   "source": [
    "6/6 [==============================] - 40s 7s/step"
   ]
  },
  {
   "cell_type": "code",
   "execution_count": null,
   "metadata": {},
   "outputs": [],
   "source": [
    "# Plotting image to compare\n",
    "img = array_to_img(x_test[18])\n",
    "img"
   ]
  },
  {
   "cell_type": "markdown",
   "metadata": {},
   "source": [
    "![alt text](download-1.png)"
   ]
  },
  {
   "cell_type": "code",
   "execution_count": null,
   "metadata": {},
   "outputs": [],
   "source": [
    "#Finding max value from prediction list and comparing original value vs predicted\n",
    "print(\"Original Label: \",all_labels[np.argmax(y_test[11])])\n",
    "print(\"Predicted Label: \",all_labels[np.argmax(y_pred[4])])\n",
    "print(y_pred[2])"
   ]
  },
  {
   "cell_type": "markdown",
   "metadata": {},
   "source": [
    "Original Label:  Blight\n",
    "Predicted Label:  Blight\n",
    "[1.7805614e-05 9.1534685e-07 9.9998122e-01]"
   ]
  },
  {
   "cell_type": "code",
   "execution_count": null,
   "metadata": {},
   "outputs": [],
   "source": [
    "for i in range(50):\n",
    "  print (all_labels[np.argmax(y_test[i])], \" \", all_labels[np.argmax(y_pred[i])])"
   ]
  },
  {
   "cell_type": "markdown",
   "metadata": {},
   "source": [
    "Common Rust   Common Rust\n",
    "Blight   Blight\n",
    "Gray Leaf Spot   Gray Leaf Spot\n",
    "Blight   Blight\n",
    "Blight   Blight\n",
    "Gray Leaf Spot   Gray Leaf Spot\n",
    "Blight   Blight\n",
    "Common Rust   Common Rust\n",
    "Common Rust   Common Rust\n",
    "Common Rust   Common Rust\n",
    "Common Rust   Common Rust\n",
    "Blight   Blight\n",
    "Gray Leaf Spot   Gray Leaf Spot\n",
    "Gray Leaf Spot   Gray Leaf Spot\n",
    "Blight   Blight\n",
    "Gray Leaf Spot   Gray Leaf Spot\n",
    "Blight   Blight\n",
    "Blight   Blight\n",
    "Gray Leaf Spot   Gray Leaf Spot\n",
    "Gray Leaf Spot   Gray Leaf Spot\n",
    "Gray Leaf Spot   Gray Leaf Spot\n",
    "Blight   Blight\n",
    "Blight   Blight\n",
    "Gray Leaf Spot   Gray Leaf Spot\n",
    "Common Rust   Common Rust\n",
    "Gray Leaf Spot   Gray Leaf Spot\n",
    "Gray Leaf Spot   Gray Leaf Spot\n",
    "Common Rust   Common Rust\n",
    "Gray Leaf Spot   Gray Leaf Spot\n",
    "Blight   Blight\n",
    "Gray Leaf Spot   Common Rust\n",
    "Common Rust   Common Rust\n",
    "Common Rust   Common Rust\n",
    "Blight   Blight\n",
    "Blight   Blight\n",
    "Common Rust   Common Rust\n",
    "Blight   Blight\n",
    "Blight   Blight\n",
    "Blight   Gray Leaf Spot\n",
    "Common Rust   Common Rust\n",
    "Blight   Blight\n",
    "Common Rust   Common Rust\n",
    "Common Rust   Common Rust\n",
    "Blight   Blight\n",
    "Gray Leaf Spot   Blight\n",
    "Common Rust   Common Rust\n",
    "Common Rust   Common Rust\n",
    "Blight   Blight\n",
    "Gray Leaf Spot   Blight\n",
    "Blight   Blight"
   ]
  }
 ],
 "metadata": {
  "language_info": {
   "name": "python"
  }
 },
 "nbformat": 4,
 "nbformat_minor": 2
}
